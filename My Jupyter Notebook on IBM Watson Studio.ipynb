{
    "cells": [
        {
            "cell_type": "markdown",
            "metadata": {
                "collapsed": true
            },
            "source": "# My Jupyter Notebook on IBM Watson Studio"
        },
        {
            "cell_type": "markdown",
            "metadata": {},
            "source": "<b>HAET NIRAV TRIVEDI</b><br>\nDATA SCIENCE"
        },
        {
            "cell_type": "markdown",
            "metadata": {},
            "source": "<i>I am interested in Data Science because I can easily analyze and understand data and love to explore various techniques that help to solve Data Science Problems.Mathematics and statistics is very intersting topics for me which helps me to make life more easier.</i>"
        },
        {
            "cell_type": "markdown",
            "metadata": {},
            "source": ""
        },
        {
            "cell_type": "markdown",
            "metadata": {},
            "source": "<h3>Below code is about how to Add, Subtract and Divide 2 Numbers </h3>"
        },
        {
            "cell_type": "code",
            "execution_count": 18,
            "metadata": {},
            "outputs": [
                {
                    "name": "stdout",
                    "output_type": "stream",
                    "text": "5\n3\n5.0\n"
                }
            ],
            "source": "print(2+3)\nprint(5-2)\nprint(10/2)"
        },
        {
            "cell_type": "markdown",
            "metadata": {},
            "source": "Conclusion<hr>\n\nThis Notebooks helped us to learn how below mentioned operations: <br>\n<ol>\n<li>Addition of 2 Numbers</li>\n<li>Subtraction of 2 Numbers</li>\n<li>Division of 2 Numbers</li>\n<hr>\nNow we can perform below operations by taking various test cases:<br>\n<ul>\n<li>Addition of 2 Numbers</li>\n<li>Subtraction of 2 Numbers</li>\n<li>Division of 2 Numbers</li>\n<hr>\n<blockquote>Keep Learning....</blockquote>"
        },
        {
            "cell_type": "code",
            "execution_count": null,
            "metadata": {},
            "outputs": [],
            "source": ""
        }
    ],
    "metadata": {
        "kernelspec": {
            "display_name": "Python 3.7",
            "language": "python",
            "name": "python3"
        },
        "language_info": {
            "codemirror_mode": {
                "name": "ipython",
                "version": 3
            },
            "file_extension": ".py",
            "mimetype": "text/x-python",
            "name": "python",
            "nbconvert_exporter": "python",
            "pygments_lexer": "ipython3",
            "version": "3.7.10"
        }
    },
    "nbformat": 4,
    "nbformat_minor": 1
}